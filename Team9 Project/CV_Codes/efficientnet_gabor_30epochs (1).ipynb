{
  "nbformat": 4,
  "nbformat_minor": 0,
  "metadata": {
    "colab": {
      "provenance": []
    },
    "kernelspec": {
      "name": "python3",
      "display_name": "Python 3"
    },
    "language_info": {
      "name": "python"
    },
    "accelerator": "TPU"
  },
  "cells": [
    {
      "cell_type": "code",
      "execution_count": null,
      "metadata": {
        "id": "LSLHGsLh0ypX"
      },
      "outputs": [],
      "source": []
    },
    {
      "cell_type": "code",
      "source": [
        "from google.colab import drive\n",
        "drive.mount('/content/drive')"
      ],
      "metadata": {
        "colab": {
          "base_uri": "https://localhost:8080/"
        },
        "id": "mnR14rQm1Ma3",
        "outputId": "76902504-ae6b-4654-8577-387baacaff32"
      },
      "execution_count": 1,
      "outputs": [
        {
          "output_type": "stream",
          "name": "stdout",
          "text": [
            "Mounted at /content/drive\n"
          ]
        }
      ]
    },
    {
      "cell_type": "code",
      "source": [
        "# import system libs\n",
        "import os\n",
        "import time\n",
        "import shutil\n",
        "import pathlib\n",
        "import itertools\n",
        "\n",
        "# import data handling tools\n",
        "import cv2\n",
        "import numpy as np\n",
        "import pandas as pd\n",
        "# import seaborn as sns\n",
        "# sns.set_style('darkgrid')\n",
        "import matplotlib.pyplot as plt\n",
        "from sklearn.model_selection import train_test_split\n",
        "from sklearn.metrics import confusion_matrix, classification_report\n",
        "# import Deep learning Libraries\n",
        "import tensorflow as tf\n",
        "from tensorflow import keras\n",
        "from tensorflow.keras.models import Sequential\n",
        "from tensorflow.keras.applications import EfficientNetB0\n",
        "from tensorflow.keras.optimizers import Adam, Adamax\n",
        "from tensorflow.keras.metrics import categorical_crossentropy\n",
        "from tensorflow.keras.preprocessing.image import ImageDataGenerator\n",
        "from tensorflow.keras.layers import Conv2D, MaxPooling2D, Flatten, Dense, Activation, Dropout, BatchNormalization\n",
        "from tensorflow.keras import regularizers"
      ],
      "metadata": {
        "id": "0TuFf-ho1iTk"
      },
      "execution_count": 2,
      "outputs": []
    },
    {
      "cell_type": "code",
      "source": [
        "from tensorflow.keras.preprocessing.image import ImageDataGenerator\n",
        "from tensorflow.keras.models import Sequential, Model\n",
        "from tensorflow.keras.layers import Conv2D, MaxPooling2D, Flatten, Dense, GlobalAveragePooling2D\n",
        "from tensorflow.keras.applications import MobileNetV2\n",
        "from tensorflow.keras.callbacks import EarlyStopping\n",
        "import matplotlib.pyplot as plt\n",
        "import efficientnet.tfkeras as efn"
      ],
      "metadata": {
        "id": "d_2rt-z62eJU"
      },
      "execution_count": 13,
      "outputs": []
    },
    {
      "cell_type": "code",
      "source": [
        "!pip install -q efficientnet"
      ],
      "metadata": {
        "colab": {
          "base_uri": "https://localhost:8080/"
        },
        "id": "jknHm_7_2CMW",
        "outputId": "445326ca-3668-4cd9-dc1d-01d7ac5292a9"
      },
      "execution_count": 4,
      "outputs": [
        {
          "output_type": "stream",
          "name": "stdout",
          "text": [
            "\u001b[?25l     \u001b[90m━━━━━━━━━━━━━━━━━━━━━━━━━━━━━━━━━━━━━━━━\u001b[0m \u001b[32m0.0/50.7 kB\u001b[0m \u001b[31m?\u001b[0m eta \u001b[36m-:--:--\u001b[0m\r\u001b[2K     \u001b[91m━━━━━━━━━━━━━━━━━━━━━━━━━━━━━━━━\u001b[0m\u001b[90m╺\u001b[0m\u001b[90m━━━━━━━\u001b[0m \u001b[32m41.0/50.7 kB\u001b[0m \u001b[31m1.2 MB/s\u001b[0m eta \u001b[36m0:00:01\u001b[0m\r\u001b[2K     \u001b[90m━━━━━━━━━━━━━━━━━━━━━━━━━━━━━━━━━━━━━━━━\u001b[0m \u001b[32m50.7/50.7 kB\u001b[0m \u001b[31m1.1 MB/s\u001b[0m eta \u001b[36m0:00:00\u001b[0m\n",
            "\u001b[?25h"
          ]
        }
      ]
    },
    {
      "cell_type": "code",
      "source": [
        "datagen = ImageDataGenerator(rescale=1./255,\n",
        "                                      width_shift_range=0.2,\n",
        "                                      height_shift_range=0.2,\n",
        "                                      validation_split=0.2\n",
        "                                      )\n",
        "train_data = datagen.flow_from_directory('/content/drive/MyDrive/computer vision/gaborfinal',\n",
        "                                                     target_size=(224,224),\n",
        "                                                     batch_size=32,\n",
        "                                                     class_mode = 'categorical',\n",
        "                                                     subset = 'training')\n",
        "\n",
        "valid_data = datagen.flow_from_directory('/content/drive/MyDrive/computer vision/gaborfinal',\n",
        "                                                     target_size=(224,224),\n",
        "                                                     batch_size=32,\n",
        "                                                     class_mode = 'categorical',\n",
        "                                                     subset = 'validation')"
      ],
      "metadata": {
        "colab": {
          "base_uri": "https://localhost:8080/"
        },
        "id": "i9tXVT_n1kw5",
        "outputId": "695e14e2-5df7-4921-abe5-ef2c432fb8f1"
      },
      "execution_count": 14,
      "outputs": [
        {
          "output_type": "stream",
          "name": "stdout",
          "text": [
            "Found 721 images belonging to 5 classes.\n",
            "Found 179 images belonging to 5 classes.\n"
          ]
        }
      ]
    },
    {
      "cell_type": "code",
      "source": [
        "def lr_rate(epoch,lr):\n",
        "    if epoch<10:\n",
        "        lr=0.0001\n",
        "        return lr\n",
        "    elif epoch<=15:\n",
        "        lr=0.0005\n",
        "        return lr\n",
        "    elif epoch<=30:\n",
        "        lr=0.0001\n",
        "        return lr\n",
        "    else:\n",
        "        lr=lr*(epoch/(1+epoch))\n",
        "        return lr\n",
        "lr_callback=tf.keras.callbacks.LearningRateScheduler(lr_rate)"
      ],
      "metadata": {
        "id": "_ch4QgSb2JZk"
      },
      "execution_count": 15,
      "outputs": []
    },
    {
      "cell_type": "code",
      "source": [
        "import tensorflow as tf\n",
        "from tensorflow.keras.layers import Input, Concatenate, Dense, GlobalAveragePooling2D\n",
        "\n",
        "model = tf.keras.Sequential([\n",
        "        efn.EfficientNetB0(\n",
        "            input_shape=(224,224, 3),\n",
        "            weights='imagenet',\n",
        "            include_top=False\n",
        "        ),tf.keras.layers.Flatten(),tf.keras.layers.Dense(5, activation='softmax')\n",
        "    ])\n",
        "\n",
        "model.compile(optimizer=\"Adam\", loss='categorical_crossentropy', metrics=['accuracy'])\n",
        "# Implement early stopping\n",
        "#early_stopping = EarlyStopping(monitor='val_loss', patience=3, restore_best_weights=True)"
      ],
      "metadata": {
        "colab": {
          "base_uri": "https://localhost:8080/"
        },
        "id": "IgSJKw-G2Kul",
        "outputId": "57fb8d13-f501-415b-baf7-124ff4bda06e"
      },
      "execution_count": 16,
      "outputs": [
        {
          "output_type": "stream",
          "name": "stdout",
          "text": [
            "Downloading data from https://github.com/Callidior/keras-applications/releases/download/efficientnet/efficientnet-b0_weights_tf_dim_ordering_tf_kernels_autoaugment_notop.h5\n",
            "16804768/16804768 [==============================] - 0s 0us/step\n"
          ]
        }
      ]
    },
    {
      "cell_type": "code",
      "source": [
        "model.summary()"
      ],
      "metadata": {
        "colab": {
          "base_uri": "https://localhost:8080/"
        },
        "id": "hnv-mJm12qA8",
        "outputId": "b4e9227b-0960-432d-e437-77f82fab0fe0"
      },
      "execution_count": 17,
      "outputs": [
        {
          "output_type": "stream",
          "name": "stdout",
          "text": [
            "Model: \"sequential\"\n",
            "_________________________________________________________________\n",
            " Layer (type)                Output Shape              Param #   \n",
            "=================================================================\n",
            " efficientnet-b0 (Functional  (None, 7, 7, 1280)       4049564   \n",
            " )                                                               \n",
            "                                                                 \n",
            " flatten (Flatten)           (None, 62720)             0         \n",
            "                                                                 \n",
            " dense_2 (Dense)             (None, 5)                 313605    \n",
            "                                                                 \n",
            "=================================================================\n",
            "Total params: 4,363,169\n",
            "Trainable params: 4,321,153\n",
            "Non-trainable params: 42,016\n",
            "_________________________________________________________________\n"
          ]
        }
      ]
    },
    {
      "cell_type": "code",
      "source": [
        "history=model.fit(train_data,validation_data = valid_data,callbacks=[lr_callback],epochs=30,verbose=1)"
      ],
      "metadata": {
        "colab": {
          "base_uri": "https://localhost:8080/"
        },
        "id": "f2qtUY8p2VFX",
        "outputId": "3979bb79-5e75-425d-c367-3d40198c0c1d"
      },
      "execution_count": 18,
      "outputs": [
        {
          "output_type": "stream",
          "name": "stdout",
          "text": [
            "Epoch 1/30\n",
            "23/23 [==============================] - 381s 13s/step - loss: 1.7183 - accuracy: 0.3870 - val_loss: 1.8131 - val_accuracy: 0.2514 - lr: 1.0000e-04\n",
            "Epoch 2/30\n",
            "23/23 [==============================] - 257s 11s/step - loss: 1.2573 - accuracy: 0.5160 - val_loss: 2.0316 - val_accuracy: 0.2458 - lr: 1.0000e-04\n",
            "Epoch 3/30\n",
            "23/23 [==============================] - 274s 12s/step - loss: 1.0275 - accuracy: 0.6006 - val_loss: 1.9462 - val_accuracy: 0.2514 - lr: 1.0000e-04\n",
            "Epoch 4/30\n",
            "23/23 [==============================] - 259s 11s/step - loss: 0.9778 - accuracy: 0.5992 - val_loss: 1.8039 - val_accuracy: 0.2291 - lr: 1.0000e-04\n",
            "Epoch 5/30\n",
            "23/23 [==============================] - 262s 11s/step - loss: 0.8343 - accuracy: 0.6893 - val_loss: 1.7421 - val_accuracy: 0.2291 - lr: 1.0000e-04\n",
            "Epoch 6/30\n",
            "23/23 [==============================] - 268s 12s/step - loss: 0.7649 - accuracy: 0.7226 - val_loss: 1.8676 - val_accuracy: 0.2626 - lr: 1.0000e-04\n",
            "Epoch 7/30\n",
            "23/23 [==============================] - 261s 11s/step - loss: 0.6646 - accuracy: 0.7517 - val_loss: 1.8042 - val_accuracy: 0.2626 - lr: 1.0000e-04\n",
            "Epoch 8/30\n",
            "23/23 [==============================] - 261s 11s/step - loss: 0.6251 - accuracy: 0.7531 - val_loss: 1.8180 - val_accuracy: 0.2793 - lr: 1.0000e-04\n",
            "Epoch 9/30\n",
            "23/23 [==============================] - 265s 11s/step - loss: 0.5605 - accuracy: 0.8003 - val_loss: 1.8447 - val_accuracy: 0.3073 - lr: 1.0000e-04\n",
            "Epoch 10/30\n",
            "23/23 [==============================] - 264s 11s/step - loss: 0.5439 - accuracy: 0.7920 - val_loss: 1.8804 - val_accuracy: 0.3073 - lr: 1.0000e-04\n",
            "Epoch 11/30\n",
            "23/23 [==============================] - 269s 12s/step - loss: 0.7083 - accuracy: 0.7476 - val_loss: 2.4209 - val_accuracy: 0.3352 - lr: 5.0000e-04\n",
            "Epoch 12/30\n",
            "23/23 [==============================] - 261s 11s/step - loss: 0.9048 - accuracy: 0.7101 - val_loss: 2.3628 - val_accuracy: 0.2905 - lr: 5.0000e-04\n",
            "Epoch 13/30\n",
            "23/23 [==============================] - 261s 11s/step - loss: 0.9039 - accuracy: 0.7323 - val_loss: 2.3326 - val_accuracy: 0.3240 - lr: 5.0000e-04\n",
            "Epoch 14/30\n",
            "23/23 [==============================] - 260s 11s/step - loss: 0.7347 - accuracy: 0.7323 - val_loss: 4.8591 - val_accuracy: 0.2793 - lr: 5.0000e-04\n",
            "Epoch 15/30\n",
            "23/23 [==============================] - 263s 11s/step - loss: 0.6010 - accuracy: 0.8058 - val_loss: 6.7936 - val_accuracy: 0.2849 - lr: 5.0000e-04\n",
            "Epoch 16/30\n",
            "23/23 [==============================] - 263s 11s/step - loss: 0.5026 - accuracy: 0.8308 - val_loss: 3.5536 - val_accuracy: 0.4358 - lr: 5.0000e-04\n",
            "Epoch 17/30\n",
            "23/23 [==============================] - 260s 11s/step - loss: 0.3655 - accuracy: 0.8960 - val_loss: 2.3301 - val_accuracy: 0.5196 - lr: 1.0000e-04\n",
            "Epoch 18/30\n",
            "23/23 [==============================] - 272s 12s/step - loss: 0.2404 - accuracy: 0.9140 - val_loss: 2.0824 - val_accuracy: 0.4972 - lr: 1.0000e-04\n",
            "Epoch 19/30\n",
            "23/23 [==============================] - 257s 11s/step - loss: 0.2028 - accuracy: 0.9251 - val_loss: 2.1865 - val_accuracy: 0.4972 - lr: 1.0000e-04\n",
            "Epoch 20/30\n",
            "23/23 [==============================] - 271s 12s/step - loss: 0.1736 - accuracy: 0.9404 - val_loss: 1.9148 - val_accuracy: 0.5475 - lr: 1.0000e-04\n",
            "Epoch 21/30\n",
            "23/23 [==============================] - 263s 11s/step - loss: 0.2058 - accuracy: 0.9251 - val_loss: 1.8877 - val_accuracy: 0.5084 - lr: 1.0000e-04\n",
            "Epoch 22/30\n",
            "23/23 [==============================] - 272s 12s/step - loss: 0.1662 - accuracy: 0.9362 - val_loss: 1.7616 - val_accuracy: 0.5084 - lr: 1.0000e-04\n",
            "Epoch 23/30\n",
            "23/23 [==============================] - 264s 11s/step - loss: 0.1602 - accuracy: 0.9417 - val_loss: 1.9464 - val_accuracy: 0.4637 - lr: 1.0000e-04\n",
            "Epoch 24/30\n",
            "23/23 [==============================] - 271s 12s/step - loss: 0.1461 - accuracy: 0.9487 - val_loss: 1.7861 - val_accuracy: 0.5251 - lr: 1.0000e-04\n",
            "Epoch 25/30\n",
            "23/23 [==============================] - 257s 11s/step - loss: 0.0887 - accuracy: 0.9709 - val_loss: 1.7460 - val_accuracy: 0.5587 - lr: 1.0000e-04\n",
            "Epoch 26/30\n",
            "23/23 [==============================] - 263s 11s/step - loss: 0.1264 - accuracy: 0.9556 - val_loss: 1.8188 - val_accuracy: 0.5810 - lr: 1.0000e-04\n",
            "Epoch 27/30\n",
            "23/23 [==============================] - 263s 11s/step - loss: 0.0871 - accuracy: 0.9681 - val_loss: 1.7044 - val_accuracy: 0.5922 - lr: 1.0000e-04\n",
            "Epoch 28/30\n",
            "23/23 [==============================] - 259s 12s/step - loss: 0.1311 - accuracy: 0.9556 - val_loss: 1.6048 - val_accuracy: 0.6480 - lr: 1.0000e-04\n",
            "Epoch 29/30\n",
            "23/23 [==============================] - 261s 11s/step - loss: 0.1204 - accuracy: 0.9584 - val_loss: 1.4589 - val_accuracy: 0.6704 - lr: 1.0000e-04\n",
            "Epoch 30/30\n",
            "23/23 [==============================] - 265s 11s/step - loss: 0.0931 - accuracy: 0.9750 - val_loss: 1.5648 - val_accuracy: 0.6034 - lr: 1.0000e-04\n"
          ]
        }
      ]
    },
    {
      "cell_type": "code",
      "source": [
        "# Plot the loss curves\n",
        "plt.plot(history.history['loss'], label='Training Loss')\n",
        "plt.plot(history.history['val_loss'], label='Validation Loss')\n",
        "plt.xlabel('Epoch')\n",
        "plt.ylabel('Loss')\n",
        "plt.legend()\n",
        "plt.show()\n"
      ],
      "metadata": {
        "colab": {
          "base_uri": "https://localhost:8080/",
          "height": 449
        },
        "id": "s5n5OVPS2ino",
        "outputId": "592b5d71-7dff-4cdf-abe4-8bbf843412e4"
      },
      "execution_count": 19,
      "outputs": [
        {
          "output_type": "display_data",
          "data": {
            "text/plain": [
              "<Figure size 640x480 with 1 Axes>"
            ],
            "image/png": "[encoded data removed]"
          },
          "metadata": {}
        }
      ]
    },
    {
      "cell_type": "code",
      "source": [
        "test_data = datagen.flow_from_directory('/content/drive/MyDrive/computer vision/gaborfinal',\n",
        "                                                     target_size=(224,224),\n",
        "                                                     batch_size=32,\n",
        "                                                     class_mode = 'categorical',\n",
        "                                                     subset = 'validation')"
      ],
      "metadata": {
        "colab": {
          "base_uri": "https://localhost:8080/"
        },
        "id": "j9NrkxfH2nGa",
        "outputId": "17c4e574-a498-4250-a009-af4ede6e5421"
      },
      "execution_count": 20,
      "outputs": [
        {
          "output_type": "stream",
          "name": "stdout",
          "text": [
            "Found 731 images belonging to 5 classes.\n"
          ]
        }
      ]
    },
    {
      "cell_type": "code",
      "source": [
        "evaluation_result = model.evaluate(test_data,verbose=1)\n",
        "\n",
        "# Print the evaluation result\n",
        "print(\"Test Loss:\", evaluation_result[0])\n",
        "print(\"Test Accuracy:\", evaluation_result[1])"
      ],
      "metadata": {
        "colab": {
          "base_uri": "https://localhost:8080/"
        },
        "id": "yOsEXymj2xNK",
        "outputId": "0b653a0f-0cff-4e15-8531-d6c685faad63"
      },
      "execution_count": 21,
      "outputs": [
        {
          "output_type": "stream",
          "name": "stdout",
          "text": [
            "23/23 [==============================] - 147s 7s/step - loss: 1.3215 - accuracy: 0.6936\n",
            "Test Loss: 1.321509599685669\n",
            "Test Accuracy: 0.6935704350471497\n"
          ]
        }
      ]
    }
  ]
}